{
  "nbformat": 4,
  "nbformat_minor": 0,
  "metadata": {
    "kernelspec": {
      "name": "python3",
      "display_name": "Python 3.9.1 64-bit"
    },
    "language_info": {
      "codemirror_mode": {
        "name": "ipython",
        "version": 3
      },
      "file_extension": ".py",
      "mimetype": "text/x-python",
      "name": "python",
      "nbconvert_exporter": "python",
      "pygments_lexer": "ipython3",
      "version": "3.9.1"
    },
    "interpreter": {
      "hash": "63fd5069d213b44bf678585dea6b12cceca9941eaf7f819626cde1f2670de90d"
    },
    "colab": {
      "name": "BLS Classification.ipynb",
      "provenance": [],
      "collapsed_sections": [
        "-WWAtMrkDnqF",
        "1wLVJAFMDMVh",
        "LNCsHSufEhiI",
        "QXFaApZ_EhiT",
        "BO37XeliEhiX"
      ]
    }
  },
  "cells": [
    {
      "cell_type": "markdown",
      "metadata": {
        "id": "-WWAtMrkDnqF"
      },
      "source": [
        "### Preprocessing"
      ]
    },
    {
      "cell_type": "code",
      "metadata": {
        "colab": {
          "base_uri": "https://localhost:8080/"
        },
        "id": "E8gG2X2hB5tE",
        "outputId": "47d9411b-9213-4473-c7a5-5d7e3249985d"
      },
      "source": [
        "!pip install sastrawi"
      ],
      "execution_count": null,
      "outputs": [
        {
          "output_type": "stream",
          "text": [
            "Collecting sastrawi\n",
            "  Downloading Sastrawi-1.0.1-py2.py3-none-any.whl (209 kB)\n",
            "\u001b[?25l\r\u001b[K     |█▋                              | 10 kB 5.0 MB/s eta 0:00:01\r\u001b[K     |███▏                            | 20 kB 8.6 MB/s eta 0:00:01\r\u001b[K     |████▊                           | 30 kB 11.7 MB/s eta 0:00:01\r\u001b[K     |██████▎                         | 40 kB 14.5 MB/s eta 0:00:01\r\u001b[K     |███████▉                        | 51 kB 16.8 MB/s eta 0:00:01\r\u001b[K     |█████████▍                      | 61 kB 19.2 MB/s eta 0:00:01\r\u001b[K     |███████████                     | 71 kB 19.8 MB/s eta 0:00:01\r\u001b[K     |████████████▌                   | 81 kB 21.5 MB/s eta 0:00:01\r\u001b[K     |██████████████                  | 92 kB 22.9 MB/s eta 0:00:01\r\u001b[K     |███████████████▋                | 102 kB 24.2 MB/s eta 0:00:01\r\u001b[K     |█████████████████▏              | 112 kB 24.2 MB/s eta 0:00:01\r\u001b[K     |██████████████████▊             | 122 kB 24.2 MB/s eta 0:00:01\r\u001b[K     |████████████████████▎           | 133 kB 24.2 MB/s eta 0:00:01\r\u001b[K     |█████████████████████▉          | 143 kB 24.2 MB/s eta 0:00:01\r\u001b[K     |███████████████████████▍        | 153 kB 24.2 MB/s eta 0:00:01\r\u001b[K     |█████████████████████████       | 163 kB 24.2 MB/s eta 0:00:01\r\u001b[K     |██████████████████████████▋     | 174 kB 24.2 MB/s eta 0:00:01\r\u001b[K     |████████████████████████████▏   | 184 kB 24.2 MB/s eta 0:00:01\r\u001b[K     |█████████████████████████████▊  | 194 kB 24.2 MB/s eta 0:00:01\r\u001b[K     |███████████████████████████████▎| 204 kB 24.2 MB/s eta 0:00:01\r\u001b[K     |████████████████████████████████| 209 kB 24.2 MB/s \n",
            "\u001b[?25hInstalling collected packages: sastrawi\n",
            "Successfully installed sastrawi-1.0.1\n"
          ],
          "name": "stdout"
        }
      ]
    },
    {
      "cell_type": "code",
      "metadata": {
        "id": "YCV1DPijEoTb"
      },
      "source": [
        "import pandas as pd\n",
        "import nltk\n",
        "import re\n",
        "import string\n",
        "\n",
        "from string import punctuation\n",
        "from nltk.corpus import stopwords\n",
        "from Sastrawi.Stemmer.StemmerFactory import StemmerFactory\n",
        "\n",
        "from sklearn.feature_extraction.text import CountVectorizer\n",
        "from sklearn.feature_extraction.text import TfidfVectorizer\n",
        "from sklearn.model_selection import train_test_split\n",
        "from sklearn import svm, naive_bayes\n",
        "from sklearn.linear_model import LogisticRegression\n",
        "\n",
        "\n",
        "from sklearn.metrics import accuracy_score, multilabel_confusion_matrix, classification_report"
      ],
      "execution_count": null,
      "outputs": []
    },
    {
      "cell_type": "code",
      "metadata": {
        "colab": {
          "base_uri": "https://localhost:8080/"
        },
        "id": "S3j0hgbgEuy7",
        "outputId": "c1be5edd-f30b-4754-c82f-7791b12163ad"
      },
      "source": [
        "nltk.download('stopwords')\n",
        "factory = StemmerFactory()\n",
        "stemmer = factory.create_stemmer()\n",
        "stop_words = stopwords.words('indonesian')"
      ],
      "execution_count": null,
      "outputs": [
        {
          "output_type": "stream",
          "text": [
            "[nltk_data] Downloading package stopwords to /root/nltk_data...\n",
            "[nltk_data]   Unzipping corpora/stopwords.zip.\n"
          ],
          "name": "stdout"
        }
      ]
    },
    {
      "cell_type": "code",
      "metadata": {
        "colab": {
          "base_uri": "https://localhost:8080/"
        },
        "id": "c-bx79h4DnSx",
        "outputId": "6e464009-752c-4148-a761-9631f107cfc6"
      },
      "source": [
        "bisnis_df = pd.read_csv('/content/drive/MyDrive/DF NLP/bisnis.csv')\n",
        "bisnis_df['Label'] = 0\n",
        "bisnis_df.shape"
      ],
      "execution_count": null,
      "outputs": [
        {
          "output_type": "execute_result",
          "data": {
            "text/plain": [
              "(40, 6)"
            ]
          },
          "metadata": {
            "tags": []
          },
          "execution_count": 11
        }
      ]
    },
    {
      "cell_type": "code",
      "metadata": {
        "colab": {
          "base_uri": "https://localhost:8080/"
        },
        "id": "lOSa7vjBFL-m",
        "outputId": "0d96e6fb-9e63-4985-aae4-b10b7a66114d"
      },
      "source": [
        "lifestyle_df = pd.read_csv('/content/drive/MyDrive/DF NLP/lifestyle.csv')\n",
        "lifestyle_df['Label'] = 1\n",
        "lifestyle_df.shape"
      ],
      "execution_count": null,
      "outputs": [
        {
          "output_type": "execute_result",
          "data": {
            "text/plain": [
              "(40, 6)"
            ]
          },
          "metadata": {
            "tags": []
          },
          "execution_count": 12
        }
      ]
    },
    {
      "cell_type": "code",
      "metadata": {
        "colab": {
          "base_uri": "https://localhost:8080/"
        },
        "id": "ZfFX-XgLF1oH",
        "outputId": "fd4cacf1-eccb-4d7f-eff6-0c7775b4e8f1"
      },
      "source": [
        "sport_df = pd.read_csv('/content/drive/MyDrive/DF NLP/sport.csv')\n",
        "sport_df['Label'] = 2\n",
        "sport_df.shape"
      ],
      "execution_count": null,
      "outputs": [
        {
          "output_type": "execute_result",
          "data": {
            "text/plain": [
              "(40, 6)"
            ]
          },
          "metadata": {
            "tags": []
          },
          "execution_count": 13
        }
      ]
    },
    {
      "cell_type": "code",
      "metadata": {
        "id": "DWbMqYXaGCBJ"
      },
      "source": [
        "df = pd.concat([bisnis_df, lifestyle_df, sport_df], ignore_index=True)"
      ],
      "execution_count": null,
      "outputs": []
    },
    {
      "cell_type": "code",
      "metadata": {
        "id": "HosO50A_HHIf"
      },
      "source": [
        "df.drop(['id','url','Unnamed: 0','title'], axis=1, inplace=True)"
      ],
      "execution_count": null,
      "outputs": []
    },
    {
      "cell_type": "code",
      "metadata": {
        "id": "0CyK4KjuHc05"
      },
      "source": [
        "#preprocessing function\n",
        "def preprocessing(sentence):\n",
        "    \n",
        "    #lowecasing\n",
        "    sentence = sentence.lower()\n",
        "    sentence = re.sub(r\"b'\\S+\", \"\", sentence)\n",
        "    sentence = re.sub(r\"https\\S+\", \"\", sentence)\n",
        "    sentence = re.sub(r\"x\\S+\", \"\", sentence)\n",
        "    sentence = re.sub(r\"@\\S+\", \"\", sentence)\n",
        "    \n",
        "    #remove white spaces\n",
        "    sentence = sentence.strip()\n",
        "    \n",
        "    #tokenization\n",
        "    words = sentence.split()\n",
        "    \n",
        "    #remove punctuation/ special character\n",
        "    remove_table = str.maketrans(\"\", \"\", punctuation)\n",
        "    words = [x.translate(remove_table) for x in words]\n",
        "    \n",
        "    #remove nonalphanumeric <=3 chars\n",
        "    words = [x for x in words if x.isalnum() and len(x) > 3]\n",
        "    \n",
        "    # stemming\n",
        "    words = [stemmer.stem(w) for w in words]\n",
        "    \n",
        "    #remove stopwords\n",
        "    words = [x for x in words if x not in stop_words]\n",
        "    \n",
        "    #rejoining the words\n",
        "    sentence = \" \".join(words)\n",
        "    \n",
        "    return sentence"
      ],
      "execution_count": null,
      "outputs": []
    },
    {
      "cell_type": "code",
      "metadata": {
        "id": "-ueOtdZaHkGW"
      },
      "source": [
        "df['content'] = [preprocessing(stc) for stc in df['content']]"
      ],
      "execution_count": null,
      "outputs": []
    },
    {
      "cell_type": "code",
      "metadata": {
        "id": "utZeyOsDHy80"
      },
      "source": [
        "X_train, X_test, y_train, y_test = train_test_split(df['content'], df['Label'], test_size=0.2)"
      ],
      "execution_count": null,
      "outputs": []
    },
    {
      "cell_type": "markdown",
      "metadata": {
        "id": "YGRyQNtxCigw"
      },
      "source": [
        "## Count"
      ]
    },
    {
      "cell_type": "code",
      "metadata": {
        "colab": {
          "base_uri": "https://localhost:8080/"
        },
        "id": "_yYvpqIWIR5J",
        "outputId": "91c67da0-910a-4671-975a-fffe91bef9cc"
      },
      "source": [
        "cv = CountVectorizer(lowercase = True, stop_words = stop_words,token_pattern=\"[A-Za-z]+\")\n",
        "X_train_vect = cv.fit_transform(X_train)\n",
        "X_test_vect = cv.transform(X_test)"
      ],
      "execution_count": null,
      "outputs": [
        {
          "output_type": "stream",
          "text": [
            "/usr/local/lib/python3.7/dist-packages/sklearn/feature_extraction/text.py:385: UserWarning: Your stop_words may be inconsistent with your preprocessing. Tokenizing the stop words generated tokens ['baiknya', 'berkali', 'kali', 'kurangnya', 'mata', 'olah', 'sekurang', 'setidak', 'tama', 'tidaknya'] not in stop_words.\n",
            "  'stop_words.' % sorted(inconsistent))\n"
          ],
          "name": "stderr"
        }
      ]
    },
    {
      "cell_type": "markdown",
      "metadata": {
        "id": "1wLVJAFMDMVh"
      },
      "source": [
        "### NBC"
      ]
    },
    {
      "cell_type": "code",
      "metadata": {
        "colab": {
          "base_uri": "https://localhost:8080/"
        },
        "id": "Kc3zEQhqDO9G",
        "outputId": "5fc4fdb6-3a11-496a-9e3f-842e39e30805"
      },
      "source": [
        "from sklearn.naive_bayes import MultinomialNB\n",
        "clf = MultinomialNB()\n",
        "clf.fit(X_train_vect, y_train)"
      ],
      "execution_count": null,
      "outputs": [
        {
          "output_type": "execute_result",
          "data": {
            "text/plain": [
              "MultinomialNB(alpha=1.0, class_prior=None, fit_prior=True)"
            ]
          },
          "metadata": {
            "tags": []
          },
          "execution_count": 20
        }
      ]
    },
    {
      "cell_type": "code",
      "metadata": {
        "id": "X7AzLgpcD8i4"
      },
      "source": [
        "predicted2 = clf.predict(X_test_vect)"
      ],
      "execution_count": null,
      "outputs": []
    },
    {
      "cell_type": "code",
      "metadata": {
        "colab": {
          "base_uri": "https://localhost:8080/"
        },
        "id": "0liJmm4wD8i6",
        "outputId": "9775c3fe-29da-483e-ac65-8c3b0139ffc1"
      },
      "source": [
        "print(classification_report(y_test, predicted2))"
      ],
      "execution_count": null,
      "outputs": [
        {
          "output_type": "stream",
          "text": [
            "              precision    recall  f1-score   support\n",
            "\n",
            "           0       0.89      0.89      0.89         9\n",
            "           1       0.88      0.88      0.88         8\n",
            "           2       1.00      1.00      1.00         7\n",
            "\n",
            "    accuracy                           0.92        24\n",
            "   macro avg       0.92      0.92      0.92        24\n",
            "weighted avg       0.92      0.92      0.92        24\n",
            "\n"
          ],
          "name": "stdout"
        }
      ]
    },
    {
      "cell_type": "code",
      "metadata": {
        "colab": {
          "base_uri": "https://localhost:8080/"
        },
        "id": "RPlfgNhgNEp4",
        "outputId": "5bfd968b-5513-4851-c358-d9b2494c70f2"
      },
      "source": [
        "from sklearn.metrics import roc_auc_score\n",
        "prob = clf.predict_proba(X_test_vect)\n",
        "score = roc_auc_score(y_test, prob, multi_class='ovr')\n",
        "print(score)"
      ],
      "execution_count": null,
      "outputs": [
        {
          "output_type": "stream",
          "text": [
            "0.9799768518518519\n"
          ],
          "name": "stdout"
        }
      ]
    },
    {
      "cell_type": "code",
      "metadata": {
        "colab": {
          "base_uri": "https://localhost:8080/"
        },
        "id": "I6iSeNGITlNX",
        "outputId": "1061935c-245e-4d68-9793-df76b723dc38"
      },
      "source": [
        "d = ['Aku bermain bola basket']\n",
        "tes = cv.transform(d)\n",
        "clf.predict(tes)"
      ],
      "execution_count": null,
      "outputs": [
        {
          "output_type": "execute_result",
          "data": {
            "text/plain": [
              "array([2])"
            ]
          },
          "metadata": {
            "tags": []
          },
          "execution_count": 31
        }
      ]
    }
  ]
}